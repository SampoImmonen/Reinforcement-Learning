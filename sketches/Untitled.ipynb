{
 "cells": [
  {
   "cell_type": "code",
   "execution_count": 12,
   "metadata": {},
   "outputs": [
    {
     "name": "stdout",
     "output_type": "stream",
     "text": [
      "Discrete(4)\n",
      "Box(-inf, inf, (8,), float32)\n",
      "tensor([[ 0.1220,  0.4118, -0.3211,  0.3764]], grad_fn=<AddmmBackward>)\n"
     ]
    }
   ],
   "source": [
    "import gym\n",
    "import torch\n",
    "import torch.nn as nn\n",
    "import numpy as np\n",
    "\n",
    "env = gym.make(\"LunarLander-v2\")\n",
    "print(env.action_space)\n",
    "print(env.observation_space)\n",
    "\n",
    "device = \"cpu\"\n",
    "net = nn.Sequential(nn.Linear(8, 8), nn.ReLU(), nn.Linear(8,4))\n",
    "print(net(torch.randn(1,8)))"
   ]
  },
  {
   "cell_type": "code",
   "execution_count": 13,
   "metadata": {},
   "outputs": [],
   "source": [
    "from collections import namedtuple, deque\n",
    "import random\n",
    "ActionPair = namedtuple('ActionPair', ('state','action','next_state', 'reward', 'isdone'))\n",
    "\n",
    "class ReplayBuffer:\n",
    "    \n",
    "    def __init__(self, capacity):\n",
    "        \n",
    "        self.capacity = capacity\n",
    "        self.buffer = deque(maxlen=capacity)\n",
    "        \n",
    "    def push(self, ActionPair):\n",
    "        #print(len(self.buffer))\n",
    "        self.buffer.append(ActionPair)\n",
    "        \n",
    "    def sample(self, batch_size):\n",
    "        indices = np.random.choice(len(self.buffer), batch_size, replace=False)\n",
    "\n",
    "        states, actions, rewards, dones, next_states = zip(*[self.buffer[idx] for idx in indices])\n",
    "        return np.array(states), np.array(actions),np.array(rewards, dtype=np.float32), np.array(dones, dtype=np.uint8), p.array(next_states)\n",
    "    \n",
    "    \n",
    "    def __len__(self):\n",
    "        return len(self.buffer)\n",
    "    \n",
    "    def __repr__(self):\n",
    "        return f\"ReplayBuffer {len(self.buffer)}/{self.capacity}\""
   ]
  },
  {
   "cell_type": "code",
   "execution_count": 17,
   "metadata": {},
   "outputs": [
    {
     "ename": "TypeError",
     "evalue": "'ExperienceSource' object is not callable",
     "output_type": "error",
     "traceback": [
      "\u001b[1;31m---------------------------------------------------------------------------\u001b[0m",
      "\u001b[1;31mTypeError\u001b[0m                                 Traceback (most recent call last)",
      "\u001b[1;32m<ipython-input-17-4b3838d9a08c>\u001b[0m in \u001b[0;36m<module>\u001b[1;34m\u001b[0m\n\u001b[0;32m     39\u001b[0m \u001b[0mExpSource\u001b[0m \u001b[1;33m=\u001b[0m \u001b[0mExperienceSource\u001b[0m\u001b[1;33m(\u001b[0m\u001b[0menv\u001b[0m\u001b[1;33m)\u001b[0m\u001b[1;33m\u001b[0m\u001b[1;33m\u001b[0m\u001b[0m\n\u001b[0;32m     40\u001b[0m \u001b[1;33m\u001b[0m\u001b[0m\n\u001b[1;32m---> 41\u001b[1;33m \u001b[1;32mfor\u001b[0m \u001b[0mpair\u001b[0m \u001b[1;32min\u001b[0m \u001b[0mExpSource\u001b[0m\u001b[1;33m(\u001b[0m\u001b[0mnet\u001b[0m\u001b[1;33m,\u001b[0m \u001b[0mdevice\u001b[0m\u001b[1;33m)\u001b[0m\u001b[1;33m:\u001b[0m\u001b[1;33m\u001b[0m\u001b[1;33m\u001b[0m\u001b[0m\n\u001b[0m\u001b[0;32m     42\u001b[0m     \u001b[0mprint\u001b[0m\u001b[1;33m(\u001b[0m\u001b[0mpair\u001b[0m\u001b[1;33m)\u001b[0m\u001b[1;33m\u001b[0m\u001b[1;33m\u001b[0m\u001b[0m\n\u001b[0;32m     43\u001b[0m \u001b[1;33m\u001b[0m\u001b[0m\n",
      "\u001b[1;31mTypeError\u001b[0m: 'ExperienceSource' object is not callable"
     ]
    }
   ],
   "source": [
    "buffer = ReplayBuffer(10000)\n",
    "\n",
    "class ExperienceSource:\n",
    "    \"\"\"\n",
    "    generates experience into the ReplayBuffer\n",
    "    \"\"\"\n",
    "    \n",
    "    def __init__(self, env):\n",
    "        self.env = env\n",
    "        self.obs = self.env.reset()\n",
    "            \n",
    "        episode_scores=[]\n",
    "        steps_done = 0\n",
    "        \n",
    "    def __iter__(self, net, device):\n",
    "        episode_reward = 0\n",
    "        while True:\n",
    "            obs_tensor = torch.tensor(self.obs).unsqueeze(0).to(device)\n",
    "            with torch.no_grad():\n",
    "                act = net(obs_tensor).max(1)[1].item()\n",
    "            \n",
    "            steps_done+=1\n",
    "            \n",
    "            obs, reward, isdone, _ = self.env.step(act)\n",
    "            episode_reward+=reward\n",
    "            \n",
    "            pair = ActionPair(self.obs, act, obs, reward, isdone)\n",
    "            \n",
    "            self.obs = obs\n",
    "            \n",
    "            if isdone:\n",
    "                self.obs = self.env.reset()\n",
    "                self.episode_rewards.append(episode_reward)\n",
    "                episode_reward = 0\n",
    "            \n",
    "            yield pair\n",
    "            \n",
    "\n",
    "ExpSource = ExperienceSource(env)\n",
    "\n",
    "for pair in ExpSource:\n",
    "    print(pair)\n",
    "                \n",
    "            \n",
    "            "
   ]
  },
  {
   "cell_type": "code",
   "execution_count": 18,
   "metadata": {},
   "outputs": [
    {
     "ename": "TypeError",
     "evalue": "Cannot interpret '10' as a data type",
     "output_type": "error",
     "traceback": [
      "\u001b[1;31m---------------------------------------------------------------------------\u001b[0m",
      "\u001b[1;31mTypeError\u001b[0m                                 Traceback (most recent call last)",
      "\u001b[1;32m<ipython-input-18-bfb0d8764a51>\u001b[0m in \u001b[0;36m<module>\u001b[1;34m\u001b[0m\n\u001b[1;32m----> 1\u001b[1;33m \u001b[0ml\u001b[0m \u001b[1;33m=\u001b[0m \u001b[1;33m[\u001b[0m\u001b[0mnp\u001b[0m\u001b[1;33m.\u001b[0m\u001b[0mzeros\u001b[0m\u001b[1;33m(\u001b[0m\u001b[1;36m1\u001b[0m\u001b[1;33m,\u001b[0m\u001b[1;36m10\u001b[0m\u001b[1;33m)\u001b[0m\u001b[1;33m,\u001b[0m \u001b[0mnp\u001b[0m\u001b[1;33m.\u001b[0m\u001b[0mzeros\u001b[0m\u001b[1;33m(\u001b[0m\u001b[1;36m4\u001b[0m\u001b[1;33m,\u001b[0m \u001b[1;36m10\u001b[0m\u001b[1;33m)\u001b[0m\u001b[1;33m]\u001b[0m\u001b[1;33m\u001b[0m\u001b[1;33m\u001b[0m\u001b[0m\n\u001b[0m\u001b[0;32m      2\u001b[0m \u001b[0mtorch\u001b[0m\u001b[1;33m.\u001b[0m\u001b[0mcat\u001b[0m\u001b[1;33m(\u001b[0m\u001b[0ml\u001b[0m\u001b[1;33m,\u001b[0m \u001b[0mdim\u001b[0m \u001b[1;33m=\u001b[0m\u001b[1;36m0\u001b[0m\u001b[1;33m)\u001b[0m\u001b[1;33m.\u001b[0m\u001b[0mshape\u001b[0m\u001b[1;33m\u001b[0m\u001b[1;33m\u001b[0m\u001b[0m\n",
      "\u001b[1;31mTypeError\u001b[0m: Cannot interpret '10' as a data type"
     ]
    }
   ],
   "source": []
  },
  {
   "cell_type": "code",
   "execution_count": 33,
   "metadata": {},
   "outputs": [
    {
     "name": "stdout",
     "output_type": "stream",
     "text": [
      "Node value1\n",
      "Node value1\n"
     ]
    }
   ],
   "source": [
    "class Node:\n",
    "    \n",
    "    def __init__(self, value, next=None):\n",
    "        self.value = value\n",
    "        self.next = next\n",
    "        \n",
    "    def __str__(self):\n",
    "        return f\"Node value{self.value}\"\n",
    "        \n",
    "        \n",
    "n1=Node(1)\n",
    "n2=Node(2)\n",
    "n3=Node(3)\n",
    "n4=Node(4)\n",
    "\n",
    "#n1.next = n2\n",
    "#n2.next = n3\n",
    "#n3.next = n4\n",
    "\n",
    "\n",
    "def reverselist(n):\n",
    "    prev = None\n",
    "    cur = n\n",
    "    while True:\n",
    "        nn = cur.next\n",
    "        cur.next = prev\n",
    "        if nn==None:\n",
    "            break\n",
    "        \n",
    "        prev = cur\n",
    "        cur = nn\n",
    "\n",
    "            \n",
    "    return cur\n",
    "        \n",
    "        \n",
    "        \n",
    "        \n",
    "\n",
    "def traverselist(n):\n",
    "    while True:\n",
    "        print(n)\n",
    "        n = n.next\n",
    "        if n==None:\n",
    "            break\n",
    "\n",
    "\n",
    "traverselist(n1)\n",
    "c = reverselist(n1)\n",
    "traverselist(c)"
   ]
  }
 ],
 "metadata": {
  "kernelspec": {
   "display_name": "Python 3",
   "language": "python",
   "name": "python3"
  },
  "language_info": {
   "codemirror_mode": {
    "name": "ipython",
    "version": 3
   },
   "file_extension": ".py",
   "mimetype": "text/x-python",
   "name": "python",
   "nbconvert_exporter": "python",
   "pygments_lexer": "ipython3",
   "version": "3.8.5"
  }
 },
 "nbformat": 4,
 "nbformat_minor": 5
}
