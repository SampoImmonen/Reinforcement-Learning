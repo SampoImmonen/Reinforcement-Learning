{
 "cells": [
  {
   "cell_type": "markdown",
   "metadata": {},
   "source": [
    "# Prototyping Actor-Critic algorithms in LunarLander-v2 environment (A2C)"
   ]
  },
  {
   "cell_type": "code",
   "execution_count": 141,
   "metadata": {},
   "outputs": [
    {
     "name": "stdout",
     "output_type": "stream",
     "text": [
      "Box(-3.4028234663852886e+38, 3.4028234663852886e+38, (4,), float32)\n",
      "Discrete(2)\n"
     ]
    }
   ],
   "source": [
    "import gym\n",
    "import torch\n",
    "env = gym.make('CartPole-v0')\n",
    "print(env.observation_space)\n",
    "print(env.action_space)"
   ]
  },
  {
   "cell_type": "code",
   "execution_count": 44,
   "metadata": {},
   "outputs": [
    {
     "data": {
      "text/plain": [
       "0"
      ]
     },
     "execution_count": 44,
     "metadata": {},
     "output_type": "execute_result"
    }
   ],
   "source": [
    "import numpy as np\n",
    "probs = np.array([0.5, 0.25, 0.25])\n",
    "np.random.choice(3, p = probs)"
   ]
  },
  {
   "cell_type": "markdown",
   "metadata": {},
   "source": [
    "# Steps:\n",
    "\n",
    "1. play n steps in the environment and save (state, action, next_state), default N = ?\n",
    "2. Initialize R = 0 or R = V(St)\n",
    "3. calculate loss = td_loss + policy_gradient + (entropy_loss)\n",
    "4. update params\n",
    "5. repeat\n",
    "\n",
    "\n",
    "# Programming steps:\n",
    "1. ExpSource step return discounted reward state and action, paramas = n_step, net\n",
    "2. function to transform list of experiences into batch of states actions and reward (non terminal state rewards summed with value net output)\n",
    "3. functions to calculate approriate losses\n",
    "4. take optimizer step\n",
    "5. incorporate logger into the mix\n",
    "6. try to implement experience source with multiple environments\n"
   ]
  },
  {
   "cell_type": "code",
   "execution_count": 210,
   "metadata": {},
   "outputs": [],
   "source": [
    "#define experience source \n",
    "from collections import namedtuple\n",
    "import numpy as np\n",
    "import torch.nn.functional as F\n",
    "from utils import Experience\n",
    "\n",
    "#PolicyExperience = namedtuple('PolicyExperience', ('state', 'action', 'reward', 'isdone'))\n",
    "\n",
    "\"\"\"\n",
    "step returns experience with n_step unroll \n",
    "\n",
    "\"\"\"\n",
    "class SamplingPolicy:\n",
    "    \n",
    "    def __init__(self, net):\n",
    "        \n",
    "        self.net = net\n",
    "        \n",
    "    @torch.no_grad()\n",
    "    def get_action(self, state):\n",
    "        \"\"\"\n",
    "        get sampled action from state\n",
    "        currently supports only single action at a time\n",
    "        \"\"\"\n",
    "        \n",
    "        logits, _ = self.net(state)\n",
    "        output_dim = logits.shape[1]\n",
    "        probs = F.softmax(logits, dim=1).cpu().numpy()\n",
    "        #print(probs)\n",
    "        return np.random.choice(output_dim, p=probs[0])\n",
    "    \n",
    "    def __call__(self, state):\n",
    "        return self.net(state)\n",
    "\n",
    "class SamplingSinglePolicy(SamplingPolicy):\n",
    "    \n",
    "    def __init__(self, net):\n",
    "        super().__init__(net)\n",
    "        \n",
    "    @torch.no_grad()\n",
    "    def get_action(self, state):\n",
    "        logits = self.net(state)\n",
    "        output_dim = logits.shape[1]\n",
    "        probs = F.softmax(logits, dim=1).cpu().numpy()\n",
    "        #print(probs)\n",
    "        return np.random.choice(output_dim, p=probs[0])\n",
    "    \n",
    "class ExperienceSourceForPolicy:\n",
    "    \n",
    "    def __init__(self, env, n_steps, gamma = 0.99, device=\"cpu\"):\n",
    "        \n",
    "        self.env = env\n",
    "        self.state = self.env.reset()\n",
    "        \n",
    "        self.episode_reward = 0\n",
    "        self.episode_steps = 0\n",
    "        \n",
    "        self.n_steps = n_steps\n",
    "        \n",
    "        self.device = device\n",
    "        self.steps_done = 0\n",
    "        \n",
    "        self.gamma = gamma\n",
    "        \n",
    "        \n",
    "    @torch.no_grad()\n",
    "    def step(self, policy):\n",
    "        \n",
    "        state = self.state\n",
    "        obs_tens = torch.FloatTensor(state).unsqueeze(0).to(self.device)\n",
    "        act = policy.get_action(obs_tens)\n",
    "        \n",
    "        obs, reward, isdone, _ = self.env.step(act)\n",
    "        \n",
    "        self.episode_steps +=1\n",
    "        self.episode_reward+=reward\n",
    "        \n",
    "        first_action = act\n",
    "        total_reward = reward\n",
    "        \n",
    "        if (not isdone):\n",
    "            for i in range(self.n_steps-1):\n",
    "                obs_tens = torch.FloatTensor(obs).unsqueeze(0).to(self.device)\n",
    "                act = policy.get_action(obs_tens)\n",
    "                obs, reward, isdone, _ = self.env.step(act)\n",
    "                total_reward+=(self.gamma**(i+1))*reward\n",
    "                self.episode_reward+=reward\n",
    "                self.episode_steps+=1\n",
    "                if isdone: \n",
    "                    break\n",
    "                    \n",
    "        exp = Experience(state, first_action, obs, total_reward, isdone)\n",
    "        \n",
    "        if isdone:\n",
    "            self.state=self.env.reset()\n",
    "            episode_reward = self.episode_reward\n",
    "            episode_steps = self.episode_steps\n",
    "            \n",
    "            self.episode_steps = 0\n",
    "            self.episode_reward = 0\n",
    "                \n",
    "            return exp, (episode_reward, episode_steps)\n",
    "        \n",
    "        \n",
    "        self.state = obs\n",
    "        \n",
    "        return exp, None\n",
    "        \n",
    "        \n",
    "        \n"
   ]
  },
  {
   "cell_type": "code",
   "execution_count": 232,
   "metadata": {},
   "outputs": [
    {
     "data": {
      "text/plain": [
       "3"
      ]
     },
     "execution_count": 232,
     "metadata": {},
     "output_type": "execute_result"
    }
   ],
   "source": [
    "# Define Model\n",
    "import torch\n",
    "import torch.nn as nn\n",
    "\n",
    "class A2CBasicNet(nn.Module):\n",
    "    \n",
    "    def __init__(self, input_dim, output_dim, hidden_size = 256):\n",
    "        \n",
    "        super(A2CBasicNet, self).__init__()\n",
    "        self.base = nn.Sequential(nn.Linear(input_dim, hidden_size), \n",
    "                                  nn.ReLU(), nn.Linear(hidden_size, hidden_size),\n",
    "                                  nn.ReLU(), nn.Linear(hidden_size, hidden_size),\n",
    "                                  nn.ReLU()\n",
    "                                 )\n",
    "        \n",
    "        self.policy = nn.Sequential(nn.Linear(hidden_size, hidden_size),\n",
    "                                    nn.ReLU(), nn.Linear(hidden_size, output_dim)\n",
    "                                   )\n",
    "        self.value = nn.Sequential(nn.Linear(hidden_size, hidden_size),\n",
    "                                   nn.ReLU(), nn.Linear(hidden_size, 1)\n",
    "                                  )\n",
    "        \n",
    "    def forward(self, input):\n",
    "        x = self.base(input)\n",
    "        policy_logits = self.policy(x)\n",
    "        value = self.value(x)\n",
    "        return policy_logits, value\n",
    "    \n",
    "\n",
    "class PolicyNet(nn.Module):\n",
    "    \n",
    "    def __init__(self, input_dim, output_dim, hidden_size = 512):\n",
    "        super(PolicyNet, self).__init__()\n",
    "        self.net = nn.Sequential(nn.Linear(input_dim, hidden_size), nn.ELU(),\n",
    "                                 nn.Linear(hidden_size, hidden_size), nn.ELU(),\n",
    "                                 nn.Linear(hidden_size, output_dim)\n",
    "                                )\n",
    "    def forward(self, input):\n",
    "        return self.net(input)\n",
    "    \n",
    "class ValueNet(nn.Module):\n",
    "    \n",
    "    def __init__(self, input_dim, hidden_size = 512):\n",
    "        super(ValueNet,self).__init__()\n",
    "        self.net = nn.Sequential(nn.Linear(input_dim, hidden_size), nn.ELU(),\n",
    "                         nn.Linear(hidden_size, hidden_size), nn.ELU(),\n",
    "                         nn.Linear(hidden_size, 1)\n",
    "                        )\n",
    "    def forward(self, input):\n",
    "        return self.net(input)\n",
    "    \n",
    "net = PolicyNet(8,4)\n",
    "policy = SamplingSinglePolicy(net)\n",
    "policy.get_action(torch.randn(1, 8))"
   ]
  },
  {
   "cell_type": "code",
   "execution_count": 115,
   "metadata": {},
   "outputs": [
    {
     "name": "stdout",
     "output_type": "stream",
     "text": [
      "[ True False  True]\n",
      "[False  True False]\n"
     ]
    }
   ],
   "source": [
    "mask = np.array([True, False, True])\n",
    "print(mask)\n",
    "print(np.logical_not(mask))"
   ]
  },
  {
   "cell_type": "code",
   "execution_count": 238,
   "metadata": {},
   "outputs": [
    {
     "data": {
      "text/plain": [
       "torch.Size([128])"
      ]
     },
     "execution_count": 238,
     "metadata": {},
     "output_type": "execute_result"
    }
   ],
   "source": [
    "# define utils\n",
    "\n",
    "import timeit\n",
    "\n",
    "def get_batch(batch, net, n_steps, gamma=0.99):\n",
    "    \"\"\"\n",
    "    return tensors:\n",
    "    states, actions, \n",
    "    \"\"\"\n",
    "    \n",
    "    states, acts, next_states, rewards, isdones = zip(*batch)\n",
    "    states, acts, next_states, rewards, isdones = np.stack(states), np.stack(acts), np.stack(next_states), np.stack(rewards), np.stack(isdones)\n",
    "    done_mask = np.logical_not(isdones)\n",
    "    #print(acts.shape)\n",
    "    #print(done_mask.shape)\n",
    "    \n",
    "    tens = torch.FloatTensor(next_states[done_mask])\n",
    "    Q_vals = net(tens)\n",
    "    #print(Q_vals.shape)\n",
    "    #print(rewards.shape)\n",
    "    rewards[done_mask] = rewards[done_mask]+Q_vals.data.cpu().numpy()[:,0]*(gamma**n_steps)\n",
    "    \n",
    "    \n",
    "    return torch.FloatTensor(states), torch.tensor(acts, dtype=torch.int64), torch.FloatTensor(rewards)\n",
    "\n",
    "_, acts, vals = get_batch(bb, net, n_steps=4)\n",
    "acts.shape"
   ]
  },
  {
   "cell_type": "code",
   "execution_count": 247,
   "metadata": {},
   "outputs": [
    {
     "name": "stdout",
     "output_type": "stream",
     "text": [
      "start training\n",
      "-173.87932291996913\n",
      "20\n",
      "0.8780007362365723\n",
      "-----------------------------------\n",
      "-104.37170245074972\n",
      "30\n",
      "1.0890302658081055\n",
      "-----------------------------------\n",
      "-81.60636759162655\n",
      "130\n",
      "3.1410117149353027\n",
      "-----------------------------------\n",
      "-70.03442752123473\n",
      "540\n",
      "17.21089458465576\n",
      "-----------------------------------\n",
      "-48.4820518654886\n",
      "580\n",
      "22.141947269439697\n",
      "-----------------------------------\n",
      "40.894906788763116\n",
      "640\n",
      "58.271281480789185\n",
      "-----------------------------------\n",
      "139.96941866297087\n",
      "660\n",
      "61.68534469604492\n",
      "-----------------------------------\n",
      "205.34771360614522\n",
      "1080\n",
      "180.7928123474121\n",
      "-----------------------------------\n",
      "Solved\n"
     ]
    }
   ],
   "source": [
    "# define training loop (Params From Deep Reinforcement Learning Hands-On, Maxim Lapan)\n",
    "import time\n",
    "\n",
    "gamma = 0.99\n",
    "lr = 0.001\n",
    "beta = 0.005\n",
    "batch_size = 32\n",
    "num_envs = 50\n",
    "sync_interval = 1000\n",
    "\n",
    "reward_steps = 4\n",
    "clip_grad = 0.1\n",
    "\n",
    "env = gym.make('LunarLander-v2')\n",
    "policy_net = PolicyNet(8, 4)\n",
    "value_net = ValueNet(8)\n",
    "target_value_net = ValueNet(8)\n",
    "target_value_net.load_state_dict(value_net.state_dict())\n",
    "\n",
    "\n",
    "\n",
    "\n",
    "policy = SamplingSinglePolicy(policy_net)\n",
    "exp_source = ExperienceSourceForPolicy(env, n_steps = reward_steps)\n",
    "\n",
    "policyoptimizer = torch.optim.Adam(policy_net.parameters(), lr=lr)\n",
    "valueoptimizer = torch.optim.Adam(value_net.parameters(), lr=lr)\n",
    "episode_rewards = []\n",
    "episodes_done=0\n",
    "batch = []\n",
    "best = -200\n",
    "num_steps = 0\n",
    "\n",
    "start_time = time.time()\n",
    "print(\"start training\")\n",
    "while True:\n",
    "    exp, rew = exp_source.step(policy)\n",
    "    batch.append(exp)\n",
    "    if rew!=None:\n",
    "        reward, steps = rew\n",
    "        episode_rewards.append(reward)\n",
    "        if len(episode_rewards)%10==0 and len(episode_rewards) > 0:\n",
    "            if sum(episode_rewards[-10:])/10 > best:\n",
    "                print(sum(episode_rewards[-10:])/10)\n",
    "                print(len(episode_rewards))\n",
    "                print(time.time()-start_time)\n",
    "                best = sum(episode_rewards[-10:])/10\n",
    "                print(35*'-')\n",
    "            if sum(episode_rewards[-10:])/10 > 199:\n",
    "                print(\"Solved\")\n",
    "                break\n",
    "                \n",
    "    if len(batch) == batch_size:\n",
    "        \n",
    "        num_steps+=1\n",
    "        \n",
    "        states, acts, rewards = get_batch(batch, target_value_net, n_steps=reward_steps)\n",
    "        batch.clear()\n",
    "        optimizer.zero_grad()\n",
    "        \n",
    "        logits = policy_net(states)\n",
    "        vals = value_net(states)\n",
    "        \n",
    "        value_loss = F.mse_loss(vals.squeeze(-1), rewards)\n",
    "        \n",
    "        log_probs = F.log_softmax(logits, dim=1)\n",
    "        adv_v = rewards-vals.detach()\n",
    "        log_p_a = log_probs[range(batch_size), acts]\n",
    "        \n",
    "        policy_loss = -(adv_v*log_p_a).mean()\n",
    "        \n",
    "        #policy_loss.backward(retain_graph=True)\n",
    "        \n",
    "        probs = F.softmax(logits, dim=1)\n",
    "        ent = (probs*log_probs).sum(dim=1).mean()\n",
    "        \n",
    "        entropy_loss = beta*ent\n",
    "        \n",
    "        p_loss = policy_loss+entropy_loss\n",
    "        \n",
    "        p_loss.backward()\n",
    "        value_loss.backward()\n",
    "                \n",
    "            \n",
    "        nn.utils.clip_grad_norm_(policy_net.parameters(), clip_grad)\n",
    "        nn.utils.clip_grad_norm_(value_net.parameters(), clip_grad)\n",
    "        \n",
    "        policyoptimizer.step()\n",
    "        valueoptimizer.step()\n",
    "        \n",
    "\n",
    "        #optimizer.step()\n",
    "        if num_steps%sync_interval == 0:\n",
    "            target_value_net.load_state_dict(value_net.state_dict())\n",
    "\n",
    "        \n",
    "        \n",
    "        # Handlebatching \n",
    "        #calculate policy loss\n",
    "        #calculate value loss\n",
    "        #calculate entropy loss\n",
    "\n",
    "            # update parameters\n",
    "            \n",
    "\n",
    "    \n",
    "    "
   ]
  },
  {
   "attachments": {
    "A2C_working_params_cartpole.PNG": {
     "image/png": "[encoded data removed]"
    }
   },
   "cell_type": "markdown",
   "metadata": {},
   "source": [
    "![A2C_working_params_cartpole.PNG](attachment:A2C_working_params_cartpole.PNG)"
   ]
  },
  {
   "attachments": {
    "LunarLander-v2_params.PNG": {
     "image/png": "[encoded data removed]"
    }
   },
   "cell_type": "markdown",
   "metadata": {},
   "source": [
    "![LunarLander-v2_params.PNG](attachment:LunarLander-v2_params.PNG)"
   ]
  },
  {
   "cell_type": "code",
   "execution_count": 248,
   "metadata": {},
   "outputs": [
    {
     "ename": "SyntaxError",
     "evalue": "invalid syntax (<ipython-input-248-2e5d3e5eadfd>, line 1)",
     "output_type": "error",
     "traceback": [
      "\u001b[1;36m  File \u001b[1;32m\"<ipython-input-248-2e5d3e5eadfd>\"\u001b[1;36m, line \u001b[1;32m1\u001b[0m\n\u001b[1;33m    from video_tools import\u001b[0m\n\u001b[1;37m                            ^\u001b[0m\n\u001b[1;31mSyntaxError\u001b[0m\u001b[1;31m:\u001b[0m invalid syntax\n"
     ]
    }
   ],
   "source": [
    "from video_tools import show_epi\n",
    "\n",
    "env = gym.make('LunarLander-v2')\n",
    "show_episode(policy_net, env, save_video=True, video_path=\"LunarLanderA2C.mp4\", images_path=\"lunarlander_images\")"
   ]
  }
 ],
 "metadata": {
  "kernelspec": {
   "display_name": "Python 3",
   "language": "python",
   "name": "python3"
  },
  "language_info": {
   "codemirror_mode": {
    "name": "ipython",
    "version": 3
   },
   "file_extension": ".py",
   "mimetype": "text/x-python",
   "name": "python",
   "nbconvert_exporter": "python",
   "pygments_lexer": "ipython3",
   "version": "3.8.5"
  }
 },
 "nbformat": 4,
 "nbformat_minor": 4
}
